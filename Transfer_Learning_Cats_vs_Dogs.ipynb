{
  "nbformat": 4,
  "nbformat_minor": 0,
  "metadata": {
    "colab": {
      "name": "Transfer_LearningCats_vs_Dogs.ipynb",
      "provenance": [],
      "collapsed_sections": [],
      "authorship_tag": "ABX9TyNmNkil3zxwEvPIQgRQC9pD",
      "include_colab_link": true
    },
    "kernelspec": {
      "name": "python3",
      "display_name": "Python 3"
    },
    "language_info": {
      "name": "python"
    },
    "accelerator": "GPU"
  },
  "cells": [
    {
      "cell_type": "markdown",
      "metadata": {
        "id": "view-in-github",
        "colab_type": "text"
      },
      "source": [
        "<a href=\"https://colab.research.google.com/github/aryan619348/Dog_vs_Cats_CNN/blob/main/Transfer_Learning_Cats_vs_Dogs.ipynb\" target=\"_parent\"><img src=\"https://colab.research.google.com/assets/colab-badge.svg\" alt=\"Open In Colab\"/></a>"
      ]
    },
    {
      "cell_type": "markdown",
      "metadata": {
        "id": "P7_1y5ULB82a"
      },
      "source": [
        "In this notebook we will be using tranfer learning to explore cats vs dogs dataset from kaggle\n",
        "\n",
        "In transfer learning, the knowledge of an already trained machine learning model is applied to a different but related problem."
      ]
    },
    {
      "cell_type": "markdown",
      "metadata": {
        "id": "J_Hx7E0oCKEF"
      },
      "source": [
        "To do this lets import the Inception model that was trained on an dataset from imagenet that has around 1.4 million images, in a 1000 different classes"
      ]
    },
    {
      "cell_type": "markdown",
      "metadata": {
        "id": "e2ko6zTFC7W3"
      },
      "source": [
        "First lets download the weights form a pre-trained inception network and instantiate a new instance of it using those weights\n",
        "\n",
        "We will pull on of the convolutional layers as our input layer and then take its output."
      ]
    },
    {
      "cell_type": "code",
      "metadata": {
        "colab": {
          "base_uri": "https://localhost:8080/"
        },
        "id": "VC3x9jp_-73A",
        "outputId": "43ae3c9b-8702-44f0-cd8b-bd824d72cc01"
      },
      "source": [
        "import os\n",
        "\n",
        "from tensorflow.keras import layers\n",
        "from tensorflow.keras import Model\n",
        "\n",
        "!wget --no-check-certificate \\\n",
        "    https://storage.googleapis.com/mledu-datasets/inception_v3_weights_tf_dim_ordering_tf_kernels_notop.h5 \\\n",
        "    -O /tmp/inception_v3_weights_tf_dim_ordering_tf_kernels_notop.h5"
      ],
      "execution_count": 1,
      "outputs": [
        {
          "output_type": "stream",
          "name": "stdout",
          "text": [
            "--2021-11-28 15:10:11--  https://storage.googleapis.com/mledu-datasets/inception_v3_weights_tf_dim_ordering_tf_kernels_notop.h5\n",
            "Resolving storage.googleapis.com (storage.googleapis.com)... 172.217.214.128, 108.177.111.128, 108.177.121.128, ...\n",
            "Connecting to storage.googleapis.com (storage.googleapis.com)|172.217.214.128|:443... connected.\n",
            "HTTP request sent, awaiting response... 200 OK\n",
            "Length: 87910968 (84M) [application/x-hdf]\n",
            "Saving to: ‘/tmp/inception_v3_weights_tf_dim_ordering_tf_kernels_notop.h5’\n",
            "\n",
            "/tmp/inception_v3_w 100%[===================>]  83.84M  96.2MB/s    in 0.9s    \n",
            "\n",
            "2021-11-28 15:10:12 (96.2 MB/s) - ‘/tmp/inception_v3_weights_tf_dim_ordering_tf_kernels_notop.h5’ saved [87910968/87910968]\n",
            "\n"
          ]
        }
      ]
    },
    {
      "cell_type": "code",
      "metadata": {
        "colab": {
          "base_uri": "https://localhost:8080/"
        },
        "id": "yOorjoGXDZfS",
        "outputId": "18dc5025-1f00-4902-8bb6-90a0513bab6f"
      },
      "source": [
        "from tensorflow.keras.applications.inception_v3 import InceptionV3\n",
        "\n",
        "local_weights_file = '/tmp/inception_v3_weights_tf_dim_ordering_tf_kernels_notop.h5'\n",
        "\n",
        "pre_trained_model = InceptionV3(input_shape = (150, 150, 3), \n",
        "                                include_top = False, \n",
        "                                weights = None)\n",
        "\n",
        "pre_trained_model.load_weights(local_weights_file)\n",
        "\n",
        "for layer in pre_trained_model.layers:\n",
        "  layer.trainable = False\n",
        "last_layer = pre_trained_model.get_layer('mixed7')\n",
        "print('last layer output shape: ', last_layer.output_shape)\n",
        "last_output = last_layer.output"
      ],
      "execution_count": 2,
      "outputs": [
        {
          "output_type": "stream",
          "name": "stdout",
          "text": [
            "last layer output shape:  (None, 7, 7, 768)\n"
          ]
        }
      ]
    },
    {
      "cell_type": "markdown",
      "metadata": {
        "id": "fkuqCeKLD1PG"
      },
      "source": [
        "Now lets setup a model taking \"last_output\" as the input to it...\n",
        "\n",
        "That will be flattened and thenthere will be a dense layer, a dropout, and an output layer."
      ]
    },
    {
      "cell_type": "code",
      "metadata": {
        "id": "K8UTffejDr_U"
      },
      "source": [
        "from tensorflow.keras.optimizers import RMSprop\n",
        "x = layers.Flatten()(last_output)\n",
        "x = layers.Dense(1024, activation='relu')(x)\n",
        "x = layers.Dropout(0.2)(x)  # Add a dropout rate of 0.2             \n",
        "x = layers.Dense  (1, activation='sigmoid')(x)           \n",
        "\n",
        "model = Model( pre_trained_model.input, x) \n",
        "\n",
        "model.compile(optimizer = RMSprop(learning_rate=0.0001), \n",
        "              loss = 'binary_crossentropy', \n",
        "              metrics = ['accuracy'])"
      ],
      "execution_count": 3,
      "outputs": []
    },
    {
      "cell_type": "markdown",
      "metadata": {
        "id": "q_uaTU4OEdp5"
      },
      "source": [
        "Now lets import the cats vs dogs data set and use image augmentation to generate the training data set"
      ]
    },
    {
      "cell_type": "code",
      "metadata": {
        "colab": {
          "base_uri": "https://localhost:8080/"
        },
        "id": "zsdwf-JYEaWI",
        "outputId": "07bd44ac-bd9d-4eae-a572-5ceeeced558c"
      },
      "source": [
        "!gdown --id 1RL0T7Rg4XqQNRCkjfnLo4goOJQ7XZro9"
      ],
      "execution_count": 4,
      "outputs": [
        {
          "output_type": "stream",
          "name": "stdout",
          "text": [
            "Downloading...\n",
            "From: https://drive.google.com/uc?id=1RL0T7Rg4XqQNRCkjfnLo4goOJQ7XZro9\n",
            "To: /content/cats_and_dogs_filtered.zip\n",
            "100% 68.6M/68.6M [00:00<00:00, 166MB/s]\n"
          ]
        }
      ]
    },
    {
      "cell_type": "code",
      "metadata": {
        "id": "thzySfWZEr2T"
      },
      "source": [
        "from tensorflow.keras.preprocessing.image import ImageDataGenerator\n",
        "\n",
        "import os\n",
        "import zipfile\n",
        "\n",
        "zip_ref = zipfile.ZipFile(\"./cats_and_dogs_filtered.zip\", 'r')\n",
        "zip_ref.extractall(\"tmp/\")\n",
        "zip_ref.close()"
      ],
      "execution_count": 5,
      "outputs": []
    },
    {
      "cell_type": "code",
      "metadata": {
        "id": "aC0JuDdxEt3r"
      },
      "source": [
        "base_dir = 'tmp/cats_and_dogs_filtered'\n",
        "\n",
        "train_dir = os.path.join( base_dir, 'train')\n",
        "validation_dir = os.path.join( base_dir, 'validation')"
      ],
      "execution_count": 6,
      "outputs": []
    },
    {
      "cell_type": "code",
      "metadata": {
        "colab": {
          "base_uri": "https://localhost:8080/"
        },
        "id": "eLV4PnPXE1h3",
        "outputId": "762102b6-102b-49d4-a5ca-d688a85e8202"
      },
      "source": [
        "train_cats_dir = os.path.join(train_dir, 'cats') \n",
        "train_dogs_dir = os.path.join(train_dir, 'dogs') \n",
        "test_cats_dir = os.path.join(validation_dir, 'cats')\n",
        "test_dogs_dir = os.path.join(validation_dir, 'dogs')\n",
        "\n",
        "train_cat_fnames = os.listdir(train_cats_dir)\n",
        "train_dog_fnames = os.listdir(train_dogs_dir)\n",
        "\n",
        "train_data_gen = ImageDataGenerator(rescale = 1./255.,\n",
        "                                   rotation_range = 40,\n",
        "                                   width_shift_range = 0.2,\n",
        "                                   height_shift_range = 0.2,\n",
        "                                   shear_range = 0.2,\n",
        "                                   zoom_range = 0.2,\n",
        "                                   horizontal_flip = True)\n",
        "train_generator = train_data_gen.flow_from_directory(train_dir,\n",
        "                                                    batch_size = 20,\n",
        "                                                    class_mode = 'binary', \n",
        "                                                    target_size = (150, 150))  \n",
        "\n",
        "test_data_gen = ImageDataGenerator( rescale = 1.0/255.)\n",
        "test_generator =  test_data_gen.flow_from_directory( validation_dir,\n",
        "                                                          batch_size  = 20,\n",
        "                                                          class_mode  = 'binary', \n",
        "                                                          target_size = (150, 150))"
      ],
      "execution_count": 7,
      "outputs": [
        {
          "output_type": "stream",
          "name": "stdout",
          "text": [
            "Found 2000 images belonging to 2 classes.\n",
            "Found 1000 images belonging to 2 classes.\n"
          ]
        }
      ]
    },
    {
      "cell_type": "code",
      "metadata": {
        "colab": {
          "base_uri": "https://localhost:8080/"
        },
        "id": "Md0roCZLFbJw",
        "outputId": "8b2aaeed-677c-4f1d-ea29-9c7502cdbfc0"
      },
      "source": [
        "history = model.fit(\n",
        "            train_generator,\n",
        "            validation_data = test_generator,\n",
        "            steps_per_epoch = 100,\n",
        "            epochs = 20,\n",
        "            validation_steps = 50,\n",
        "            verbose = 1)"
      ],
      "execution_count": 8,
      "outputs": [
        {
          "output_type": "stream",
          "name": "stdout",
          "text": [
            "Epoch 1/20\n",
            "100/100 [==============================] - 38s 251ms/step - loss: 0.3521 - accuracy: 0.8535 - val_loss: 0.0966 - val_accuracy: 0.9620\n",
            "Epoch 2/20\n",
            "100/100 [==============================] - 23s 229ms/step - loss: 0.2179 - accuracy: 0.9150 - val_loss: 0.1041 - val_accuracy: 0.9610\n",
            "Epoch 3/20\n",
            "100/100 [==============================] - 24s 238ms/step - loss: 0.1888 - accuracy: 0.9270 - val_loss: 0.1360 - val_accuracy: 0.9510\n",
            "Epoch 4/20\n",
            "100/100 [==============================] - 23s 229ms/step - loss: 0.2012 - accuracy: 0.9305 - val_loss: 0.1021 - val_accuracy: 0.9630\n",
            "Epoch 5/20\n",
            "100/100 [==============================] - 24s 236ms/step - loss: 0.1807 - accuracy: 0.9360 - val_loss: 0.1232 - val_accuracy: 0.9580\n",
            "Epoch 6/20\n",
            "100/100 [==============================] - 23s 228ms/step - loss: 0.1548 - accuracy: 0.9490 - val_loss: 0.1297 - val_accuracy: 0.9570\n",
            "Epoch 7/20\n",
            "100/100 [==============================] - 24s 236ms/step - loss: 0.1771 - accuracy: 0.9440 - val_loss: 0.1440 - val_accuracy: 0.9600\n",
            "Epoch 8/20\n",
            "100/100 [==============================] - 23s 231ms/step - loss: 0.1687 - accuracy: 0.9430 - val_loss: 0.1634 - val_accuracy: 0.9540\n",
            "Epoch 9/20\n",
            "100/100 [==============================] - 24s 236ms/step - loss: 0.1693 - accuracy: 0.9420 - val_loss: 0.1863 - val_accuracy: 0.9480\n",
            "Epoch 10/20\n",
            "100/100 [==============================] - 23s 229ms/step - loss: 0.1797 - accuracy: 0.9395 - val_loss: 0.1108 - val_accuracy: 0.9640\n",
            "Epoch 11/20\n",
            "100/100 [==============================] - 23s 233ms/step - loss: 0.1682 - accuracy: 0.9405 - val_loss: 0.1785 - val_accuracy: 0.9530\n",
            "Epoch 12/20\n",
            "100/100 [==============================] - 23s 228ms/step - loss: 0.1542 - accuracy: 0.9485 - val_loss: 0.1321 - val_accuracy: 0.9640\n",
            "Epoch 13/20\n",
            "100/100 [==============================] - 23s 231ms/step - loss: 0.1623 - accuracy: 0.9475 - val_loss: 0.1244 - val_accuracy: 0.9640\n",
            "Epoch 14/20\n",
            "100/100 [==============================] - 23s 229ms/step - loss: 0.1509 - accuracy: 0.9515 - val_loss: 0.1502 - val_accuracy: 0.9580\n",
            "Epoch 15/20\n",
            "100/100 [==============================] - 23s 230ms/step - loss: 0.1411 - accuracy: 0.9525 - val_loss: 0.1189 - val_accuracy: 0.9630\n",
            "Epoch 16/20\n",
            "100/100 [==============================] - 23s 229ms/step - loss: 0.1397 - accuracy: 0.9560 - val_loss: 0.1359 - val_accuracy: 0.9630\n",
            "Epoch 17/20\n",
            "100/100 [==============================] - 23s 229ms/step - loss: 0.1238 - accuracy: 0.9585 - val_loss: 0.1277 - val_accuracy: 0.9640\n",
            "Epoch 18/20\n",
            "100/100 [==============================] - 23s 229ms/step - loss: 0.1496 - accuracy: 0.9465 - val_loss: 0.1164 - val_accuracy: 0.9670\n",
            "Epoch 19/20\n",
            "100/100 [==============================] - 23s 231ms/step - loss: 0.1330 - accuracy: 0.9520 - val_loss: 0.1636 - val_accuracy: 0.9620\n",
            "Epoch 20/20\n",
            "100/100 [==============================] - 23s 229ms/step - loss: 0.1089 - accuracy: 0.9650 - val_loss: 0.1481 - val_accuracy: 0.9640\n"
          ]
        }
      ]
    },
    {
      "cell_type": "code",
      "metadata": {
        "colab": {
          "base_uri": "https://localhost:8080/",
          "height": 298
        },
        "id": "tYw9jSJyFi6X",
        "outputId": "35ae777d-6e2c-4349-f73e-2143881271af"
      },
      "source": [
        "import matplotlib.pyplot as plt\n",
        "acc = history.history['accuracy']\n",
        "val_acc = history.history['val_accuracy']\n",
        "loss = history.history['loss']\n",
        "val_loss = history.history['val_loss']\n",
        "\n",
        "epochs = range(len(acc))\n",
        "\n",
        "plt.plot(epochs, acc, 'r', label='Training accuracy')\n",
        "plt.plot(epochs, val_acc, 'b', label='Testing accuracy')\n",
        "plt.title('Training and validation accuracy')\n",
        "plt.legend(loc=0)\n",
        "plt.figure()\n",
        "plt.show()"
      ],
      "execution_count": 10,
      "outputs": [
        {
          "output_type": "display_data",
          "data": {
            "image/png": "[encoded data removed]",
            "text/plain": [
              "<Figure size 432x288 with 1 Axes>"
            ]
          },
          "metadata": {
            "needs_background": "light"
          }
        },
        {
          "output_type": "display_data",
          "data": {
            "text/plain": [
              "<Figure size 432x288 with 0 Axes>"
            ]
          },
          "metadata": {}
        }
      ]
    },
    {
      "cell_type": "markdown",
      "metadata": {
        "id": "6SnG2opHIRmO"
      },
      "source": [
        "Here we see an amazing result where the traning accuracy increases to around 96% and and testing accuracy is also at 96%"
      ]
    }
  ]
}